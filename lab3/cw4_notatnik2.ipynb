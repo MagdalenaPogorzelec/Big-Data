{
 "cells": [
  {
   "cell_type": "code",
   "execution_count": 0,
   "metadata": {
    "application/vnd.databricks.v1+cell": {
     "cellMetadata": {
      "byteLimit": 2048000,
      "rowLimit": 10000
     },
     "inputWidgets": {},
     "nuid": "7dcb108e-a1f5-40e7-8792-6a06b3ebfa86",
     "showTitle": false,
     "tableResultSettingsMap": {},
     "title": ""
    }
   },
   "outputs": [
    {
     "output_type": "display_data",
     "data": {
      "text/html": [
       "<style scoped>\n",
       "  .table-result-container {\n",
       "    max-height: 300px;\n",
       "    overflow: auto;\n",
       "  }\n",
       "  table, th, td {\n",
       "    border: 1px solid black;\n",
       "    border-collapse: collapse;\n",
       "  }\n",
       "  th, td {\n",
       "    padding: 5px;\n",
       "  }\n",
       "  th {\n",
       "    text-align: left;\n",
       "  }\n",
       "</style><div class='table-result-container'><table class='table-result'><thead style='background-color: white'><tr><th>AccountId</th><th>TranDate</th><th>TranAmt</th></tr></thead><tbody><tr><td>1</td><td>2011-01-01</td><td>500.00</td></tr><tr><td>1</td><td>2011-01-15</td><td>50.00</td></tr><tr><td>1</td><td>2011-01-22</td><td>250.00</td></tr><tr><td>1</td><td>2011-01-24</td><td>75.00</td></tr><tr><td>1</td><td>2011-01-26</td><td>125.00</td></tr><tr><td>1</td><td>2011-01-28</td><td>175.00</td></tr><tr><td>2</td><td>2011-01-01</td><td>500.00</td></tr><tr><td>2</td><td>2011-01-15</td><td>50.00</td></tr><tr><td>2</td><td>2011-01-22</td><td>25.00</td></tr><tr><td>2</td><td>2011-01-23</td><td>125.00</td></tr><tr><td>2</td><td>2011-01-26</td><td>200.00</td></tr><tr><td>2</td><td>2011-01-29</td><td>250.00</td></tr><tr><td>3</td><td>2011-01-01</td><td>500.00</td></tr><tr><td>3</td><td>2011-01-15</td><td>50.00</td></tr><tr><td>3</td><td>2011-01-22</td><td>5000.00</td></tr><tr><td>3</td><td>2011-01-25</td><td>550.00</td></tr><tr><td>3</td><td>2011-01-27</td><td>95.00</td></tr><tr><td>3</td><td>2011-01-30</td><td>2500.00</td></tr><tr><td>1</td><td>2011-01-01</td><td>500.00</td></tr><tr><td>1</td><td>2011-01-15</td><td>50.00</td></tr><tr><td>1</td><td>2011-01-22</td><td>250.00</td></tr><tr><td>1</td><td>2011-01-24</td><td>75.00</td></tr><tr><td>1</td><td>2011-01-26</td><td>125.00</td></tr><tr><td>1</td><td>2011-01-28</td><td>175.00</td></tr><tr><td>2</td><td>2011-01-01</td><td>500.00</td></tr><tr><td>2</td><td>2011-01-15</td><td>50.00</td></tr><tr><td>2</td><td>2011-01-22</td><td>25.00</td></tr><tr><td>2</td><td>2011-01-23</td><td>125.00</td></tr><tr><td>2</td><td>2011-01-26</td><td>200.00</td></tr><tr><td>2</td><td>2011-01-29</td><td>250.00</td></tr><tr><td>3</td><td>2011-01-01</td><td>500.00</td></tr><tr><td>3</td><td>2011-01-15</td><td>50.00</td></tr><tr><td>3</td><td>2011-01-22</td><td>5000.00</td></tr><tr><td>3</td><td>2011-01-25</td><td>550.00</td></tr><tr><td>3</td><td>2011-01-27</td><td>95.00</td></tr><tr><td>3</td><td>2011-01-30</td><td>2500.00</td></tr></tbody></table></div>"
      ]
     },
     "metadata": {
      "application/vnd.databricks.v1+output": {
       "addedWidgets": {},
       "aggData": [],
       "aggError": "",
       "aggOverflow": false,
       "aggSchema": [],
       "aggSeriesLimitReached": false,
       "aggType": "",
       "arguments": {},
       "columnCustomDisplayInfos": {},
       "data": [
        [
         1,
         "2011-01-01",
         "500.00"
        ],
        [
         1,
         "2011-01-15",
         "50.00"
        ],
        [
         1,
         "2011-01-22",
         "250.00"
        ],
        [
         1,
         "2011-01-24",
         "75.00"
        ],
        [
         1,
         "2011-01-26",
         "125.00"
        ],
        [
         1,
         "2011-01-28",
         "175.00"
        ],
        [
         2,
         "2011-01-01",
         "500.00"
        ],
        [
         2,
         "2011-01-15",
         "50.00"
        ],
        [
         2,
         "2011-01-22",
         "25.00"
        ],
        [
         2,
         "2011-01-23",
         "125.00"
        ],
        [
         2,
         "2011-01-26",
         "200.00"
        ],
        [
         2,
         "2011-01-29",
         "250.00"
        ],
        [
         3,
         "2011-01-01",
         "500.00"
        ],
        [
         3,
         "2011-01-15",
         "50.00"
        ],
        [
         3,
         "2011-01-22",
         "5000.00"
        ],
        [
         3,
         "2011-01-25",
         "550.00"
        ],
        [
         3,
         "2011-01-27",
         "95.00"
        ],
        [
         3,
         "2011-01-30",
         "2500.00"
        ],
        [
         1,
         "2011-01-01",
         "500.00"
        ],
        [
         1,
         "2011-01-15",
         "50.00"
        ],
        [
         1,
         "2011-01-22",
         "250.00"
        ],
        [
         1,
         "2011-01-24",
         "75.00"
        ],
        [
         1,
         "2011-01-26",
         "125.00"
        ],
        [
         1,
         "2011-01-28",
         "175.00"
        ],
        [
         2,
         "2011-01-01",
         "500.00"
        ],
        [
         2,
         "2011-01-15",
         "50.00"
        ],
        [
         2,
         "2011-01-22",
         "25.00"
        ],
        [
         2,
         "2011-01-23",
         "125.00"
        ],
        [
         2,
         "2011-01-26",
         "200.00"
        ],
        [
         2,
         "2011-01-29",
         "250.00"
        ],
        [
         3,
         "2011-01-01",
         "500.00"
        ],
        [
         3,
         "2011-01-15",
         "50.00"
        ],
        [
         3,
         "2011-01-22",
         "5000.00"
        ],
        [
         3,
         "2011-01-25",
         "550.00"
        ],
        [
         3,
         "2011-01-27",
         "95.00"
        ],
        [
         3,
         "2011-01-30",
         "2500.00"
        ]
       ],
       "datasetInfos": [],
       "dbfsResultPath": null,
       "isJsonSchema": true,
       "metadata": {},
       "overflow": false,
       "plotOptions": {
        "customPlotOptions": {},
        "displayType": "table",
        "pivotAggregation": null,
        "pivotColumns": null,
        "xColumns": null,
        "yColumns": null
       },
       "removedWidgets": [],
       "schema": [
        {
         "metadata": "{}",
         "name": "AccountId",
         "type": "\"integer\""
        },
        {
         "metadata": "{}",
         "name": "TranDate",
         "type": "\"date\""
        },
        {
         "metadata": "{}",
         "name": "TranAmt",
         "type": "\"decimal(8,2)\""
        }
       ],
       "type": "table"
      }
     },
     "output_type": "display_data"
    },
    {
     "output_type": "display_data",
     "data": {
      "text/html": [
       "<style scoped>\n",
       "  .table-result-container {\n",
       "    max-height: 300px;\n",
       "    overflow: auto;\n",
       "  }\n",
       "  table, th, td {\n",
       "    border: 1px solid black;\n",
       "    border-collapse: collapse;\n",
       "  }\n",
       "  th, td {\n",
       "    padding: 5px;\n",
       "  }\n",
       "  th {\n",
       "    text-align: left;\n",
       "  }\n",
       "</style><div class='table-result-container'><table class='table-result'><thead style='background-color: white'><tr><th>RowID</th><th>FName</th><th>Salary</th></tr></thead><tbody><tr><td>1</td><td>George</td><td>800</td></tr><tr><td>2</td><td>Sam</td><td>950</td></tr><tr><td>3</td><td>Diane</td><td>1100</td></tr><tr><td>4</td><td>Nicholas</td><td>1250</td></tr><tr><td>5</td><td>Samuel</td><td>1250</td></tr><tr><td>6</td><td>Patricia</td><td>1300</td></tr><tr><td>7</td><td>Brian</td><td>1500</td></tr><tr><td>8</td><td>Thomas</td><td>1600</td></tr><tr><td>9</td><td>Fran</td><td>2450</td></tr><tr><td>10</td><td>Debbie</td><td>2850</td></tr><tr><td>11</td><td>Mark</td><td>2975</td></tr><tr><td>12</td><td>James</td><td>3000</td></tr><tr><td>13</td><td>Cynthia</td><td>3000</td></tr><tr><td>14</td><td>Christopher</td><td>5000</td></tr></tbody></table></div>"
      ]
     },
     "metadata": {
      "application/vnd.databricks.v1+output": {
       "addedWidgets": {},
       "aggData": [],
       "aggError": "",
       "aggOverflow": false,
       "aggSchema": [],
       "aggSeriesLimitReached": false,
       "aggType": "",
       "arguments": {},
       "columnCustomDisplayInfos": {},
       "data": [
        [
         1,
         "George",
         800
        ],
        [
         2,
         "Sam",
         950
        ],
        [
         3,
         "Diane",
         1100
        ],
        [
         4,
         "Nicholas",
         1250
        ],
        [
         5,
         "Samuel",
         1250
        ],
        [
         6,
         "Patricia",
         1300
        ],
        [
         7,
         "Brian",
         1500
        ],
        [
         8,
         "Thomas",
         1600
        ],
        [
         9,
         "Fran",
         2450
        ],
        [
         10,
         "Debbie",
         2850
        ],
        [
         11,
         "Mark",
         2975
        ],
        [
         12,
         "James",
         3000
        ],
        [
         13,
         "Cynthia",
         3000
        ],
        [
         14,
         "Christopher",
         5000
        ]
       ],
       "datasetInfos": [],
       "dbfsResultPath": null,
       "isJsonSchema": true,
       "metadata": {},
       "overflow": false,
       "plotOptions": {
        "customPlotOptions": {},
        "displayType": "table",
        "pivotAggregation": null,
        "pivotColumns": null,
        "xColumns": null,
        "yColumns": null
       },
       "removedWidgets": [],
       "schema": [
        {
         "metadata": "{}",
         "name": "RowID",
         "type": "\"integer\""
        },
        {
         "metadata": "{\"__CHAR_VARCHAR_TYPE_STRING\":\"varchar(20)\"}",
         "name": "FName",
         "type": "\"string\""
        },
        {
         "metadata": "{}",
         "name": "Salary",
         "type": "\"short\""
        }
       ],
       "type": "table"
      }
     },
     "output_type": "display_data"
    }
   ],
   "source": [
    "transactions = spark.read.table(\"Sample.Transactions\")\n",
    "logical = spark.read.table(\"Sample.Logical\")\n",
    "\n",
    "display(transactions)\n",
    "display(logical)"
   ]
  },
  {
   "cell_type": "code",
   "execution_count": 0,
   "metadata": {
    "application/vnd.databricks.v1+cell": {
     "cellMetadata": {
      "byteLimit": 2048000,
      "rowLimit": 10000
     },
     "inputWidgets": {},
     "nuid": "63c6a5c1-3346-441d-9f26-820697ed9aac",
     "showTitle": false,
     "tableResultSettingsMap": {},
     "title": ""
    }
   },
   "outputs": [
    {
     "output_type": "stream",
     "name": "stdout",
     "output_type": "stream",
     "text": [
      "+---------+----------+-------+-----------+\n|AccountId|  TranDate|TranAmt|RunTotalAmt|\n+---------+----------+-------+-----------+\n|        1|2011-01-01| 500.00|    1000.00|\n|        1|2011-01-01| 500.00|    1000.00|\n|        1|2011-01-15|  50.00|    1100.00|\n|        1|2011-01-15|  50.00|    1100.00|\n|        1|2011-01-22| 250.00|    1600.00|\n|        1|2011-01-22| 250.00|    1600.00|\n|        1|2011-01-24|  75.00|    1750.00|\n|        1|2011-01-24|  75.00|    1750.00|\n|        1|2011-01-26| 125.00|    2000.00|\n|        1|2011-01-26| 125.00|    2000.00|\n|        1|2011-01-28| 175.00|    2350.00|\n|        1|2011-01-28| 175.00|    2350.00|\n|        2|2011-01-01| 500.00|    1000.00|\n|        2|2011-01-01| 500.00|    1000.00|\n|        2|2011-01-15|  50.00|    1100.00|\n|        2|2011-01-15|  50.00|    1100.00|\n|        2|2011-01-22|  25.00|    1150.00|\n|        2|2011-01-22|  25.00|    1150.00|\n|        2|2011-01-23| 125.00|    1400.00|\n|        2|2011-01-23| 125.00|    1400.00|\n+---------+----------+-------+-----------+\nonly showing top 20 rows\n\n"
     ]
    }
   ],
   "source": [
    "from pyspark.sql import functions as F\n",
    "from pyspark.sql.window import Window\n",
    "\n",
    "window_spec = Window.partitionBy(\"AccountId\").orderBy(\"TranDate\")\n",
    "\n",
    "df = transactions.withColumn(\"RunTotalAmt\", F.sum(\"TranAmt\").over(window_spec))\n",
    "\n",
    "df.show()"
   ]
  },
  {
   "cell_type": "code",
   "execution_count": 0,
   "metadata": {
    "application/vnd.databricks.v1+cell": {
     "cellMetadata": {
      "byteLimit": 2048000,
      "rowLimit": 10000
     },
     "inputWidgets": {},
     "nuid": "d4b1162b-210b-4fa9-903f-6466046abbb2",
     "showTitle": false,
     "tableResultSettingsMap": {},
     "title": ""
    }
   },
   "outputs": [
    {
     "output_type": "stream",
     "name": "stdout",
     "output_type": "stream",
     "text": [
      "+---------+----------+-------+----------+----------+-----------+-----------+-----------+\n|AccountId|  TranDate|TranAmt|    RunAvg|RunTranQty|RunSmallAmt|RunLargeAmt|RunTotalAmt|\n+---------+----------+-------+----------+----------+-----------+-----------+-----------+\n|        1|2011-01-01| 500.00|500.000000|         1|     500.00|     500.00|     500.00|\n|        1|2011-01-01| 500.00|500.000000|         2|     500.00|     500.00|    1000.00|\n|        1|2011-01-15|  50.00|350.000000|         3|      50.00|     500.00|    1050.00|\n|        1|2011-01-15|  50.00|275.000000|         4|      50.00|     500.00|    1100.00|\n|        1|2011-01-22| 250.00|270.000000|         5|      50.00|     500.00|    1350.00|\n|        1|2011-01-22| 250.00|266.666667|         6|      50.00|     500.00|    1600.00|\n|        1|2011-01-24|  75.00|239.285714|         7|      50.00|     500.00|    1675.00|\n|        1|2011-01-24|  75.00|218.750000|         8|      50.00|     500.00|    1750.00|\n|        1|2011-01-26| 125.00|208.333333|         9|      50.00|     500.00|    1875.00|\n|        1|2011-01-26| 125.00|200.000000|        10|      50.00|     500.00|    2000.00|\n|        1|2011-01-28| 175.00|197.727273|        11|      50.00|     500.00|    2175.00|\n|        1|2011-01-28| 175.00|195.833333|        12|      50.00|     500.00|    2350.00|\n|        2|2011-01-01| 500.00|500.000000|         1|     500.00|     500.00|     500.00|\n|        2|2011-01-01| 500.00|500.000000|         2|     500.00|     500.00|    1000.00|\n|        2|2011-01-15|  50.00|350.000000|         3|      50.00|     500.00|    1050.00|\n|        2|2011-01-15|  50.00|275.000000|         4|      50.00|     500.00|    1100.00|\n|        2|2011-01-22|  25.00|225.000000|         5|      25.00|     500.00|    1125.00|\n|        2|2011-01-22|  25.00|191.666667|         6|      25.00|     500.00|    1150.00|\n|        2|2011-01-23| 125.00|182.142857|         7|      25.00|     500.00|    1275.00|\n|        2|2011-01-23| 125.00|175.000000|         8|      25.00|     500.00|    1400.00|\n+---------+----------+-------+----------+----------+-----------+-----------+-----------+\nonly showing top 20 rows\n\n"
     ]
    }
   ],
   "source": [
    "window_spec = Window.partitionBy(\"AccountId\").orderBy(\"TranDate\").rowsBetween(Window.unboundedPreceding, Window.currentRow)\n",
    "\n",
    "df = transactions.withColumn(\"RunAvg\", F.avg(\"TranAmt\").over(window_spec)) \\\n",
    "                 .withColumn(\"RunTranQty\", F.count(\"TranAmt\").over(window_spec)) \\\n",
    "                 .withColumn(\"RunSmallAmt\", F.min(\"TranAmt\").over(window_spec)) \\\n",
    "                 .withColumn(\"RunLargeAmt\", F.max(\"TranAmt\").over(window_spec)) \\\n",
    "                 .withColumn(\"RunTotalAmt\", F.sum(\"TranAmt\").over(window_spec))\n",
    "\n",
    "df.show()"
   ]
  },
  {
   "cell_type": "code",
   "execution_count": 0,
   "metadata": {
    "application/vnd.databricks.v1+cell": {
     "cellMetadata": {
      "byteLimit": 2048000,
      "rowLimit": 10000
     },
     "inputWidgets": {},
     "nuid": "ebd8c05f-f39c-453c-b3a7-537c4da5cdce",
     "showTitle": false,
     "tableResultSettingsMap": {},
     "title": ""
    }
   },
   "outputs": [
    {
     "output_type": "stream",
     "name": "stdout",
     "output_type": "stream",
     "text": [
      "+---------+----------+-------+----------+--------+--------+--------+----------+---+\n|AccountId|  TranDate|TranAmt|  SlideAvg|SlideQty|SlideMin|SlideMax|SlideTotal| RN|\n+---------+----------+-------+----------+--------+--------+--------+----------+---+\n|        1|2011-01-01| 500.00|500.000000|       1|  500.00|  500.00|    500.00|  1|\n|        1|2011-01-01| 500.00|500.000000|       2|  500.00|  500.00|   1000.00|  2|\n|        1|2011-01-15|  50.00|350.000000|       3|   50.00|  500.00|   1050.00|  3|\n|        1|2011-01-15|  50.00|200.000000|       3|   50.00|  500.00|    600.00|  4|\n|        1|2011-01-22| 250.00|116.666667|       3|   50.00|  250.00|    350.00|  5|\n|        1|2011-01-22| 250.00|183.333333|       3|   50.00|  250.00|    550.00|  6|\n|        1|2011-01-24|  75.00|191.666667|       3|   75.00|  250.00|    575.00|  7|\n|        1|2011-01-24|  75.00|133.333333|       3|   75.00|  250.00|    400.00|  8|\n|        1|2011-01-26| 125.00| 91.666667|       3|   75.00|  125.00|    275.00|  9|\n|        1|2011-01-26| 125.00|108.333333|       3|   75.00|  125.00|    325.00| 10|\n|        1|2011-01-28| 175.00|141.666667|       3|  125.00|  175.00|    425.00| 11|\n|        1|2011-01-28| 175.00|158.333333|       3|  125.00|  175.00|    475.00| 12|\n|        2|2011-01-01| 500.00|500.000000|       1|  500.00|  500.00|    500.00|  1|\n|        2|2011-01-01| 500.00|500.000000|       2|  500.00|  500.00|   1000.00|  2|\n|        2|2011-01-15|  50.00|350.000000|       3|   50.00|  500.00|   1050.00|  3|\n|        2|2011-01-15|  50.00|200.000000|       3|   50.00|  500.00|    600.00|  4|\n|        2|2011-01-22|  25.00| 41.666667|       3|   25.00|   50.00|    125.00|  5|\n|        2|2011-01-22|  25.00| 33.333333|       3|   25.00|   50.00|    100.00|  6|\n|        2|2011-01-23| 125.00| 58.333333|       3|   25.00|  125.00|    175.00|  7|\n|        2|2011-01-23| 125.00| 91.666667|       3|   25.00|  125.00|    275.00|  8|\n+---------+----------+-------+----------+--------+--------+--------+----------+---+\nonly showing top 20 rows\n\n"
     ]
    }
   ],
   "source": [
    "sliding_window_spec = Window.partitionBy(\"AccountId\").orderBy(\"TranDate\").rowsBetween(-2, Window.currentRow)\n",
    "\n",
    "df = transactions.withColumn(\"SlideAvg\", F.avg(\"TranAmt\").over(sliding_window_spec)) \\\n",
    "                 .withColumn(\"SlideQty\", F.count(\"TranAmt\").over(sliding_window_spec)) \\\n",
    "                 .withColumn(\"SlideMin\", F.min(\"TranAmt\").over(sliding_window_spec)) \\\n",
    "                 .withColumn(\"SlideMax\", F.max(\"TranAmt\").over(sliding_window_spec)) \\\n",
    "                 .withColumn(\"SlideTotal\", F.sum(\"TranAmt\").over(sliding_window_spec)) \\\n",
    "                 .withColumn(\"RN\", F.row_number().over(Window.partitionBy(\"AccountId\").orderBy(\"TranDate\")))\n",
    "\n",
    "df.show()"
   ]
  },
  {
   "cell_type": "code",
   "execution_count": 0,
   "metadata": {
    "application/vnd.databricks.v1+cell": {
     "cellMetadata": {
      "byteLimit": 2048000,
      "rowLimit": 10000
     },
     "inputWidgets": {},
     "nuid": "0c92acfa-28fb-4175-85f3-2f45521dfec9",
     "showTitle": false,
     "tableResultSettingsMap": {},
     "title": ""
    }
   },
   "outputs": [
    {
     "output_type": "stream",
     "name": "stdout",
     "output_type": "stream",
     "text": [
      "+-----+-----------+------+---------+----------+\n|RowID|      FName|Salary|SumByRows|SumByRange|\n+-----+-----------+------+---------+----------+\n|    1|     George|   800|      800|       800|\n|    2|        Sam|   950|     1750|      1750|\n|    3|      Diane|  1100|     2850|      2850|\n|    4|   Nicholas|  1250|     4100|      5350|\n|    5|     Samuel|  1250|     5350|      5350|\n|    6|   Patricia|  1300|     6650|      6650|\n|    7|      Brian|  1500|     8150|      8150|\n|    8|     Thomas|  1600|     9750|      9750|\n|    9|       Fran|  2450|    12200|     12200|\n|   10|     Debbie|  2850|    15050|     15050|\n|   11|       Mark|  2975|    18025|     18025|\n|   12|      James|  3000|    21025|     24025|\n|   13|    Cynthia|  3000|    24025|     24025|\n|   14|Christopher|  5000|    29025|     29025|\n+-----+-----------+------+---------+----------+\n\n"
     ]
    }
   ],
   "source": [
    "window_spec_rows = Window.orderBy(\"Salary\").rowsBetween(Window.unboundedPreceding, Window.currentRow)\n",
    "window_spec_range = Window.orderBy(\"Salary\").rangeBetween(Window.unboundedPreceding, Window.currentRow)\n",
    "\n",
    "df = logical.withColumn(\"SumByRows\", F.sum(\"Salary\").over(window_spec_rows)) \\\n",
    "            .withColumn(\"SumByRange\", F.sum(\"Salary\").over(window_spec_range))\n",
    "\n",
    "df.show()"
   ]
  },
  {
   "cell_type": "markdown",
   "metadata": {
    "application/vnd.databricks.v1+cell": {
     "cellMetadata": {},
     "inputWidgets": {},
     "nuid": "fcbdd524-eef1-42cd-a44b-3092f694e626",
     "showTitle": false,
     "tableResultSettingsMap": {},
     "title": ""
    }
   },
   "source": [
    "ZADANIE 1"
   ]
  },
  {
   "cell_type": "code",
   "execution_count": 0,
   "metadata": {
    "application/vnd.databricks.v1+cell": {
     "cellMetadata": {
      "byteLimit": 2048000,
      "rowLimit": 10000
     },
     "inputWidgets": {},
     "nuid": "25dd82ec-5d5a-443f-871b-d4d4025f91dc",
     "showTitle": false,
     "tableResultSettingsMap": {},
     "title": ""
    }
   },
   "outputs": [
    {
     "output_type": "stream",
     "name": "stdout",
     "output_type": "stream",
     "text": [
      "+---------+----------+-------+-----------+-----------+------------+-----------+---------+\n|AccountId|  TranDate|TranAmt|NextTranAmt|PrevTranAmt|FirstTranAmt|LastTranAmt|RowNumber|\n+---------+----------+-------+-----------+-----------+------------+-----------+---------+\n|        1|2011-01-01| 500.00|     500.00|       null|      500.00|     500.00|        1|\n|        1|2011-01-01| 500.00|      50.00|     500.00|      500.00|     500.00|        2|\n|        1|2011-01-15|  50.00|      50.00|     500.00|      500.00|      50.00|        3|\n|        1|2011-01-15|  50.00|     250.00|      50.00|      500.00|      50.00|        4|\n|        1|2011-01-22| 250.00|     250.00|      50.00|      500.00|     250.00|        5|\n|        1|2011-01-22| 250.00|      75.00|     250.00|      500.00|     250.00|        6|\n|        1|2011-01-24|  75.00|      75.00|     250.00|      500.00|      75.00|        7|\n|        1|2011-01-24|  75.00|     125.00|      75.00|      500.00|      75.00|        8|\n|        1|2011-01-26| 125.00|     125.00|      75.00|      500.00|     125.00|        9|\n|        1|2011-01-26| 125.00|     175.00|     125.00|      500.00|     125.00|       10|\n|        1|2011-01-28| 175.00|     175.00|     125.00|      500.00|     175.00|       11|\n|        1|2011-01-28| 175.00|       null|     175.00|      500.00|     175.00|       12|\n|        2|2011-01-01| 500.00|     500.00|       null|      500.00|     500.00|        1|\n|        2|2011-01-01| 500.00|      50.00|     500.00|      500.00|     500.00|        2|\n|        2|2011-01-15|  50.00|      50.00|     500.00|      500.00|      50.00|        3|\n|        2|2011-01-15|  50.00|      25.00|      50.00|      500.00|      50.00|        4|\n|        2|2011-01-22|  25.00|      25.00|      50.00|      500.00|      25.00|        5|\n|        2|2011-01-22|  25.00|     125.00|      25.00|      500.00|      25.00|        6|\n|        2|2011-01-23| 125.00|     125.00|      25.00|      500.00|     125.00|        7|\n|        2|2011-01-23| 125.00|     200.00|     125.00|      500.00|     125.00|        8|\n+---------+----------+-------+-----------+-----------+------------+-----------+---------+\nonly showing top 20 rows\n\n"
     ]
    }
   ],
   "source": [
    "from pyspark.sql import functions as F\n",
    "from pyspark.sql.window import Window\n",
    "\n",
    "window_spec = Window.partitionBy(\"AccountId\").orderBy(\"TranDate\")\n",
    "\n",
    "df = transactions.withColumn(\"NextTranAmt\", F.lead(\"TranAmt\").over(window_spec)) \\\n",
    "                 .withColumn(\"PrevTranAmt\", F.lag(\"TranAmt\").over(window_spec)) \\\n",
    "                 .withColumn(\"FirstTranAmt\", F.first(\"TranAmt\").over(window_spec)) \\\n",
    "                 .withColumn(\"LastTranAmt\", F.last(\"TranAmt\").over(window_spec)) \\\n",
    "                 .withColumn(\"RowNumber\", F.row_number().over(window_spec))\n",
    "\n",
    "df.show()\n"
   ]
  }
 ],
 "metadata": {
  "application/vnd.databricks.v1+notebook": {
   "computePreferences": null,
   "dashboards": [],
   "environmentMetadata": {
    "base_environment": "",
    "environment_version": "1"
   },
   "inputWidgetPreferences": null,
   "language": "python",
   "notebookMetadata": {
    "pythonIndentUnit": 4
   },
   "notebookName": "cw4_notatnik2",
   "widgets": {}
  }
 },
 "nbformat": 4,
 "nbformat_minor": 0
}